{
  "nbformat": 4,
  "nbformat_minor": 0,
  "metadata": {
    "colab": {
      "provenance": [],
      "gpuType": "T4",
      "authorship_tag": "ABX9TyNcZ6vZ8eGHBPKcwu1EQS4h",
      "include_colab_link": true
    },
    "kernelspec": {
      "name": "python3",
      "display_name": "Python 3"
    },
    "language_info": {
      "name": "python"
    },
    "accelerator": "GPU"
  },
  "cells": [
    {
      "cell_type": "markdown",
      "metadata": {
        "id": "view-in-github",
        "colab_type": "text"
      },
      "source": [
        "<a href=\"https://colab.research.google.com/github/farukemrekaraca/ztm-tensorflow-machinelearning-deeplearning/blob/main/05_transfer_learning_in_tensorflow_part_2_fine_tuning.ipynb\" target=\"_parent\"><img src=\"https://colab.research.google.com/assets/colab-badge.svg\" alt=\"Open In Colab\"/></a>"
      ]
    },
    {
      "cell_type": "code",
      "execution_count": 2,
      "metadata": {
        "colab": {
          "base_uri": "https://localhost:8080/"
        },
        "id": "_VVnEAi_qFfe",
        "outputId": "575dd6cb-f592-45b6-d676-f47c0d0ae27f"
      },
      "outputs": [
        {
          "output_type": "stream",
          "name": "stdout",
          "text": [
            "Tue Jan 30 14:09:11 2024       \n",
            "+---------------------------------------------------------------------------------------+\n",
            "| NVIDIA-SMI 535.104.05             Driver Version: 535.104.05   CUDA Version: 12.2     |\n",
            "|-----------------------------------------+----------------------+----------------------+\n",
            "| GPU  Name                 Persistence-M | Bus-Id        Disp.A | Volatile Uncorr. ECC |\n",
            "| Fan  Temp   Perf          Pwr:Usage/Cap |         Memory-Usage | GPU-Util  Compute M. |\n",
            "|                                         |                      |               MIG M. |\n",
            "|=========================================+======================+======================|\n",
            "|   0  Tesla T4                       Off | 00000000:00:04.0 Off |                    0 |\n",
            "| N/A   39C    P8               9W /  70W |      0MiB / 15360MiB |      0%      Default |\n",
            "|                                         |                      |                  N/A |\n",
            "+-----------------------------------------+----------------------+----------------------+\n",
            "                                                                                         \n",
            "+---------------------------------------------------------------------------------------+\n",
            "| Processes:                                                                            |\n",
            "|  GPU   GI   CI        PID   Type   Process name                            GPU Memory |\n",
            "|        ID   ID                                                             Usage      |\n",
            "|=======================================================================================|\n",
            "|  No running processes found                                                           |\n",
            "+---------------------------------------------------------------------------------------+\n"
          ]
        }
      ],
      "source": [
        "!nvidia-smi"
      ]
    },
    {
      "cell_type": "code",
      "source": [
        "!wget https://raw.githubusercontent.com/mrdbourke/tensorflow-deep-learning/main/extras/helper_functions.py"
      ],
      "metadata": {
        "colab": {
          "base_uri": "https://localhost:8080/"
        },
        "id": "x5RO3s9HrxFt",
        "outputId": "b4ef0f49-9ef8-4dff-e74b-8d141acae8b5"
      },
      "execution_count": 3,
      "outputs": [
        {
          "output_type": "stream",
          "name": "stdout",
          "text": [
            "--2024-01-30 14:21:10--  https://raw.githubusercontent.com/mrdbourke/tensorflow-deep-learning/main/extras/helper_functions.py\n",
            "Resolving raw.githubusercontent.com (raw.githubusercontent.com)... 185.199.110.133, 185.199.109.133, 185.199.111.133, ...\n",
            "Connecting to raw.githubusercontent.com (raw.githubusercontent.com)|185.199.110.133|:443... connected.\n",
            "HTTP request sent, awaiting response... 200 OK\n",
            "Length: 10246 (10K) [text/plain]\n",
            "Saving to: ‘helper_functions.py’\n",
            "\n",
            "\rhelper_functions.py   0%[                    ]       0  --.-KB/s               \rhelper_functions.py 100%[===================>]  10.01K  --.-KB/s    in 0s      \n",
            "\n",
            "2024-01-30 14:21:10 (114 MB/s) - ‘helper_functions.py’ saved [10246/10246]\n",
            "\n"
          ]
        }
      ]
    },
    {
      "cell_type": "code",
      "source": [
        "from helper_functions import create_tensorboard_callback, plot_loss_curves, unzip_data, walk_through_dir"
      ],
      "metadata": {
        "id": "aiJT2Rl_um5J"
      },
      "execution_count": 4,
      "outputs": []
    },
    {
      "cell_type": "code",
      "source": [
        "!wget https://storage.googleapis.com/ztm_tf_course/food_vision/10_food_classes_10_percent.zip\n",
        "\n",
        "unzip_data(\"10_food_classes_10_percent.zip\")"
      ],
      "metadata": {
        "colab": {
          "base_uri": "https://localhost:8080/"
        },
        "id": "KX3F2MqQu_LJ",
        "outputId": "ec89e24c-a84a-4a11-b84e-77f9c632121e"
      },
      "execution_count": 5,
      "outputs": [
        {
          "output_type": "stream",
          "name": "stdout",
          "text": [
            "--2024-01-30 14:27:36--  https://storage.googleapis.com/ztm_tf_course/food_vision/10_food_classes_10_percent.zip\n",
            "Resolving storage.googleapis.com (storage.googleapis.com)... 108.177.112.207, 74.125.124.207, 172.217.212.207, ...\n",
            "Connecting to storage.googleapis.com (storage.googleapis.com)|108.177.112.207|:443... connected.\n",
            "HTTP request sent, awaiting response... 200 OK\n",
            "Length: 168546183 (161M) [application/zip]\n",
            "Saving to: ‘10_food_classes_10_percent.zip’\n",
            "\n",
            "10_food_classes_10_ 100%[===================>] 160.74M   183MB/s    in 0.9s    \n",
            "\n",
            "2024-01-30 14:27:37 (183 MB/s) - ‘10_food_classes_10_percent.zip’ saved [168546183/168546183]\n",
            "\n"
          ]
        }
      ]
    },
    {
      "cell_type": "code",
      "source": [
        "walk_through_dir(\"10_food_classes_10_percent\")"
      ],
      "metadata": {
        "colab": {
          "base_uri": "https://localhost:8080/"
        },
        "id": "kp4DCwE3wE5Y",
        "outputId": "3994dc02-fdae-4781-dde4-198a79bb1053"
      },
      "execution_count": 7,
      "outputs": [
        {
          "output_type": "stream",
          "name": "stdout",
          "text": [
            "There are 2 directories and 0 images in '10_food_classes_10_percent'.\n",
            "There are 10 directories and 0 images in '10_food_classes_10_percent/train'.\n",
            "There are 0 directories and 75 images in '10_food_classes_10_percent/train/steak'.\n",
            "There are 0 directories and 75 images in '10_food_classes_10_percent/train/hamburger'.\n",
            "There are 0 directories and 75 images in '10_food_classes_10_percent/train/fried_rice'.\n",
            "There are 0 directories and 75 images in '10_food_classes_10_percent/train/ramen'.\n",
            "There are 0 directories and 75 images in '10_food_classes_10_percent/train/sushi'.\n",
            "There are 0 directories and 75 images in '10_food_classes_10_percent/train/pizza'.\n",
            "There are 0 directories and 75 images in '10_food_classes_10_percent/train/chicken_wings'.\n",
            "There are 0 directories and 75 images in '10_food_classes_10_percent/train/grilled_salmon'.\n",
            "There are 0 directories and 75 images in '10_food_classes_10_percent/train/ice_cream'.\n",
            "There are 0 directories and 75 images in '10_food_classes_10_percent/train/chicken_curry'.\n",
            "There are 10 directories and 0 images in '10_food_classes_10_percent/test'.\n",
            "There are 0 directories and 250 images in '10_food_classes_10_percent/test/steak'.\n",
            "There are 0 directories and 250 images in '10_food_classes_10_percent/test/hamburger'.\n",
            "There are 0 directories and 250 images in '10_food_classes_10_percent/test/fried_rice'.\n",
            "There are 0 directories and 250 images in '10_food_classes_10_percent/test/ramen'.\n",
            "There are 0 directories and 250 images in '10_food_classes_10_percent/test/sushi'.\n",
            "There are 0 directories and 250 images in '10_food_classes_10_percent/test/pizza'.\n",
            "There are 0 directories and 250 images in '10_food_classes_10_percent/test/chicken_wings'.\n",
            "There are 0 directories and 250 images in '10_food_classes_10_percent/test/grilled_salmon'.\n",
            "There are 0 directories and 250 images in '10_food_classes_10_percent/test/ice_cream'.\n",
            "There are 0 directories and 250 images in '10_food_classes_10_percent/test/chicken_curry'.\n"
          ]
        }
      ]
    },
    {
      "cell_type": "code",
      "source": [
        "train_dir = \"10_food_classes_10_percent/train\"\n",
        "test_dir = \"10_food_classes_10_percent/test\""
      ],
      "metadata": {
        "id": "krILXU6SwK29"
      },
      "execution_count": 8,
      "outputs": []
    },
    {
      "cell_type": "code",
      "source": [
        "import tensorflow as tf\n",
        "IMG_SIZE = (224, 224)\n",
        "BATCH_SIZE = 32\n",
        "\n",
        "train_data_10_percent = tf.keras.preprocessing.image_dataset_from_directory(directory=train_dir,\n",
        "                                                                            image_size=IMG_SIZE,\n",
        "                                                                            label_mode=\"categorical\",\n",
        "                                                                            batch_size=BATCH_SIZE)\n",
        "\n",
        "test_data = tf.keras.preprocessing.image_dataset_from_directory(directory=test_dir,\n",
        "                                                                          image_size=IMG_SIZE,\n",
        "                                                                          label_mode=\"categorical\",\n",
        "                                                                          batch_size=BATCH_SIZE)"
      ],
      "metadata": {
        "colab": {
          "base_uri": "https://localhost:8080/"
        },
        "id": "IVikmMeBwc02",
        "outputId": "cf2f3ac0-0e87-405c-d029-1be58fe454e1"
      },
      "execution_count": 9,
      "outputs": [
        {
          "output_type": "stream",
          "name": "stdout",
          "text": [
            "Found 750 files belonging to 10 classes.\n",
            "Found 2500 files belonging to 10 classes.\n"
          ]
        }
      ]
    },
    {
      "cell_type": "code",
      "source": [
        "train_data_10_percent"
      ],
      "metadata": {
        "colab": {
          "base_uri": "https://localhost:8080/"
        },
        "id": "8JOHn0e4xjGs",
        "outputId": "e6024da9-f29f-4483-b01a-2e7cb03ef5ab"
      },
      "execution_count": 10,
      "outputs": [
        {
          "output_type": "execute_result",
          "data": {
            "text/plain": [
              "<_PrefetchDataset element_spec=(TensorSpec(shape=(None, 224, 224, 3), dtype=tf.float32, name=None), TensorSpec(shape=(None, 10), dtype=tf.float32, name=None))>"
            ]
          },
          "metadata": {},
          "execution_count": 10
        }
      ]
    },
    {
      "cell_type": "code",
      "source": [
        "train_data_10_percent.class_names"
      ],
      "metadata": {
        "colab": {
          "base_uri": "https://localhost:8080/"
        },
        "id": "1JEB9I5hyPy8",
        "outputId": "8de95fd8-cea9-49ce-93af-902e0f0087a7"
      },
      "execution_count": 11,
      "outputs": [
        {
          "output_type": "execute_result",
          "data": {
            "text/plain": [
              "['chicken_curry',\n",
              " 'chicken_wings',\n",
              " 'fried_rice',\n",
              " 'grilled_salmon',\n",
              " 'hamburger',\n",
              " 'ice_cream',\n",
              " 'pizza',\n",
              " 'ramen',\n",
              " 'steak',\n",
              " 'sushi']"
            ]
          },
          "metadata": {},
          "execution_count": 11
        }
      ]
    },
    {
      "cell_type": "code",
      "source": [
        "for images, labels in train_data_10_percent.take(1):\n",
        "  print(images, labels)"
      ],
      "metadata": {
        "colab": {
          "base_uri": "https://localhost:8080/"
        },
        "id": "D7dnS9hxyS__",
        "outputId": "166446e3-b942-418f-95a8-609031818a62"
      },
      "execution_count": 12,
      "outputs": [
        {
          "output_type": "stream",
          "name": "stdout",
          "text": [
            "tf.Tensor(\n",
            "[[[[169.41327   166.41327   157.41327  ]\n",
            "   [171.90306   168.90306   159.90306  ]\n",
            "   [175.13776   172.13776   163.13776  ]\n",
            "   ...\n",
            "   [181.93364   187.93364   177.93364  ]\n",
            "   [180.59692   186.59692   176.59692  ]\n",
            "   [178.87244   184.87244   174.87244  ]]\n",
            "\n",
            "  [[171.57143   168.57143   159.57143  ]\n",
            "   [174.85205   171.85205   162.85205  ]\n",
            "   [176.19897   173.19897   164.19897  ]\n",
            "   ...\n",
            "   [184.92857   190.92857   180.92857  ]\n",
            "   [182.85713   188.85713   178.85713  ]\n",
            "   [181.90306   187.90306   177.90306  ]]\n",
            "\n",
            "  [[172.92857   169.92857   160.92857  ]\n",
            "   [176.19897   173.19897   164.19897  ]\n",
            "   [175.2143    172.2143    163.2143   ]\n",
            "   ...\n",
            "   [186.78574   192.78574   182.78574  ]\n",
            "   [183.65814   189.65814   179.65814  ]\n",
            "   [184.43372   190.43372   180.43372  ]]\n",
            "\n",
            "  ...\n",
            "\n",
            "  [[148.92348   141.92348   123.92348  ]\n",
            "   [149.27039   142.27039   124.270386 ]\n",
            "   [149.21428   144.21428   125.21429  ]\n",
            "   ...\n",
            "   [156.61739   159.61739   140.61739  ]\n",
            "   [152.0153    155.0153    136.0153   ]\n",
            "   [151.99483   154.99483   135.99483  ]]\n",
            "\n",
            "  [[148.92856   141.92856   122.92856  ]\n",
            "   [148.07143   141.07143   122.07143  ]\n",
            "   [148.42857   143.42857   123.42857  ]\n",
            "   ...\n",
            "   [153.91325   156.91325   137.91325  ]\n",
            "   [151.92346   154.92346   135.92346  ]\n",
            "   [152.26534   155.26534   136.26534  ]]\n",
            "\n",
            "  [[147.28568   140.28568   121.28568  ]\n",
            "   [149.33167   142.33167   123.331665 ]\n",
            "   [148.21428   143.21428   123.21429  ]\n",
            "   ...\n",
            "   [152.        155.        136.       ]\n",
            "   [150.73463   153.73463   134.73463  ]\n",
            "   [148.35718   151.35718   132.35718  ]]]\n",
            "\n",
            "\n",
            " [[[116.35715   143.64285   166.       ]\n",
            "   [111.45408   135.54591   159.5      ]\n",
            "   [111.78061   131.85713   156.13266  ]\n",
            "   ...\n",
            "   [114.36724   147.36725   166.36725  ]\n",
            "   [107.14283   140.14284   159.14284  ]\n",
            "   [102.05607   135.05606   154.05606  ]]\n",
            "\n",
            "  [[113.28571   138.07143   160.14287  ]\n",
            "   [110.07143   132.        154.85713  ]\n",
            "   [109.984695  127.91327   149.31122  ]\n",
            "   ...\n",
            "   [115.55595   148.41309   167.48453  ]\n",
            "   [103.790794  136.64793   155.71936  ]\n",
            "   [101.668335  134.52548   153.59691  ]]\n",
            "\n",
            "  [[111.57143   132.78572   154.2143   ]\n",
            "   [109.928566  128.57143   148.7857   ]\n",
            "   [109.78571   126.        142.16837  ]\n",
            "   ...\n",
            "   [111.42337   140.06622   160.85194  ]\n",
            "   [104.499985  133.14284   153.92856  ]\n",
            "   [103.29079   131.93364   152.71936  ]]\n",
            "\n",
            "  ...\n",
            "\n",
            "  [[118.07145   128.07144   129.07144  ]\n",
            "   [120.72958   130.72958   131.72958  ]\n",
            "   [121.66326   131.66327   132.66327  ]\n",
            "   ...\n",
            "   [127.99997   136.0715    143.18889  ]\n",
            "   [128.58672   136.81636   148.21439  ]\n",
            "   [128.7857    137.85718   150.14294  ]]\n",
            "\n",
            "  [[119.974495  129.9745    130.9745   ]\n",
            "   [120.        130.        131.       ]\n",
            "   [121.21429   131.21428   132.21428  ]\n",
            "   ...\n",
            "   [126.285675  143.5715    155.71436  ]\n",
            "   [127.005104  144.64804   158.79086  ]\n",
            "   [126.14282   144.71436   159.85718  ]]\n",
            "\n",
            "  [[119.41327   129.41327   130.41327  ]\n",
            "   [123.168365  133.16837   134.16837  ]\n",
            "   [122.29081   132.29082   133.29082  ]\n",
            "   ...\n",
            "   [124.7959    146.56633   160.2857   ]\n",
            "   [124.35715   147.        162.2857   ]\n",
            "   [124.35715   147.        162.2857   ]]]\n",
            "\n",
            "\n",
            " [[[ 23.892857   14.892858   17.178572 ]\n",
            "   [ 20.872448   10.67857    14.275509 ]\n",
            "   [ 30.673473   13.454084   21.112246 ]\n",
            "   ...\n",
            "   [223.48434   195.35168   127.423065 ]\n",
            "   [199.94897   163.78056    93.28053  ]\n",
            "   [204.12767   160.1276     86.18366  ]]\n",
            "\n",
            "  [[ 58.474506   48.025524   55.73471  ]\n",
            "   [ 39.693882   24.979595   31.974493 ]\n",
            "   [118.82653    94.82653   100.62755  ]\n",
            "   ...\n",
            "   [197.73447   154.37732    91.59156  ]\n",
            "   [185.29088   137.77556    71.35205  ]\n",
            "   [186.24469   135.77014    63.984356 ]]\n",
            "\n",
            "  [[123.98981   112.34695   125.48979  ]\n",
            "   [ 27.306107    8.954065   17.045902 ]\n",
            "   [190.91325   157.38774   163.12753  ]\n",
            "   ...\n",
            "   [162.28574   104.663345   46.597008 ]\n",
            "   [173.83676   116.86735    55.93875  ]\n",
            "   [171.46927   112.33153    46.183487 ]]\n",
            "\n",
            "  ...\n",
            "\n",
            "  [[251.78064   246.78064   242.78064  ]\n",
            "   [248.37251   243.37251   239.37251  ]\n",
            "   [248.68375   243.68375   239.68375  ]\n",
            "   ...\n",
            "   [ 15.765238   23.428528    9.025411 ]\n",
            "   [ 18.168343   27.811134   10.025458 ]\n",
            "   [ 28.137917   37.78071    17.423561 ]]\n",
            "\n",
            "  [[252.94891   247.94891   243.94891  ]\n",
            "   [247.92851   242.92851   238.92851  ]\n",
            "   [243.38776   238.38776   234.38776  ]\n",
            "   ...\n",
            "   [ 14.765272   20.765272    9.306068 ]\n",
            "   [ 12.62256    18.688896    4.5562215]\n",
            "   [ 22.066393   29.066393   13.066392 ]]\n",
            "\n",
            "  [[247.32663   242.32663   238.32663  ]\n",
            "   [243.76027   238.76027   234.76027  ]\n",
            "   [247.19913   242.19913   238.19913  ]\n",
            "   ...\n",
            "   [ 14.943825   17.943825    9.096885 ]\n",
            "   [ 18.64784    22.316181    9.311162 ]\n",
            "   [ 20.04104    26.04104    12.04104  ]]]\n",
            "\n",
            "\n",
            " ...\n",
            "\n",
            "\n",
            " [[[  0.          0.          0.       ]\n",
            "   [  0.          0.          0.       ]\n",
            "   [  0.          0.          0.       ]\n",
            "   ...\n",
            "   [ 13.         14.          8.       ]\n",
            "   [ 13.         14.          8.       ]\n",
            "   [ 13.         14.          8.       ]]\n",
            "\n",
            "  [[  0.          0.          0.       ]\n",
            "   [  0.          0.          0.       ]\n",
            "   [  0.          0.          0.       ]\n",
            "   ...\n",
            "   [ 13.785706   14.          6.       ]\n",
            "   [ 13.         14.          6.       ]\n",
            "   [ 13.         14.          6.       ]]\n",
            "\n",
            "  [[  0.          0.          0.       ]\n",
            "   [  0.          0.          0.       ]\n",
            "   [  0.          0.          0.       ]\n",
            "   ...\n",
            "   [ 14.428572   13.785714    6.       ]\n",
            "   [ 14.428572   13.785714    6.       ]\n",
            "   [ 14.         14.          6.       ]]\n",
            "\n",
            "  ...\n",
            "\n",
            "  [[ 93.24378    91.02952    77.60099  ]\n",
            "   [136.26973   132.54013   119.69835  ]\n",
            "   [165.08139   162.08139   146.65286  ]\n",
            "   ...\n",
            "   [ 83.82545    77.82545    63.82551  ]\n",
            "   [ 43.942516   40.728283   25.513988 ]\n",
            "   [ 17.060741   14.285231    3.8925219]]\n",
            "\n",
            "  [[  5.158166    2.1122391   0.       ]\n",
            "   [ 19.474289   16.474289    9.683537 ]\n",
            "   [ 64.290184   60.50447    50.106544 ]\n",
            "   ...\n",
            "   [ 13.433512    9.749867    1.459147 ]\n",
            "   [  4.4029274   4.2703395   0.       ]\n",
            "   [  1.5254847   2.7907789   0.       ]]\n",
            "\n",
            "  [[  5.9743824   1.9743826   0.8724017]\n",
            "   [  6.295759    2.6988525   0.5969064]\n",
            "   [  8.984811    5.984811    1.1225584]\n",
            "   ...\n",
            "   [  3.2857666   1.5562651   0.       ]\n",
            "   [  3.239862    4.0970397   0.       ]\n",
            "   [  0.9438766   2.8979218   0.       ]]]\n",
            "\n",
            "\n",
            " [[[ 95.         62.         45.       ]\n",
            "   [ 95.         62.         45.       ]\n",
            "   [ 96.05596    63.05596    46.05596  ]\n",
            "   ...\n",
            "   [  6.698749    5.913013    4.341541 ]\n",
            "   [  4.          0.          0.       ]\n",
            "   [  5.          1.          0.       ]]\n",
            "\n",
            "  [[ 95.         62.         45.       ]\n",
            "   [ 95.72752    62.72752    45.72752  ]\n",
            "   [ 96.21429    63.214287   46.214287 ]\n",
            "   ...\n",
            "   [  7.472666    6.6869297   5.1154575]\n",
            "   [  4.          0.          0.       ]\n",
            "   [  5.          1.          0.       ]]\n",
            "\n",
            "  [[ 95.         62.         45.       ]\n",
            "   [ 96.         63.         46.       ]\n",
            "   [ 97.         64.         47.       ]\n",
            "   ...\n",
            "   [  7.8570557   7.0713196   5.4998474]\n",
            "   [  4.          0.          0.       ]\n",
            "   [  4.694196    0.6941962   0.       ]]\n",
            "\n",
            "  ...\n",
            "\n",
            "  [[164.30579   161.30579   128.30579  ]\n",
            "   [164.30579   161.30579   128.30579  ]\n",
            "   [165.45454   162.45454   129.45454  ]\n",
            "   ...\n",
            "   [134.57147   137.        136.       ]\n",
            "   [134.        136.        135.       ]\n",
            "   [134.        136.        135.       ]]\n",
            "\n",
            "  [[164.21652   161.21652   128.21652  ]\n",
            "   [164.01547   161.01547   128.01547  ]\n",
            "   [164.3844    161.3844    128.3844   ]\n",
            "   ...\n",
            "   [134.95587   137.3844    136.3844   ]\n",
            "   [134.94403   136.94403   135.94403  ]\n",
            "   [133.92267   135.92267   134.92267  ]]\n",
            "\n",
            "  [[166.00275   163.00275   130.00275  ]\n",
            "   [164.81029   161.81029   128.81029  ]\n",
            "   [165.73886   162.73886   129.73886  ]\n",
            "   ...\n",
            "   [136.31033   138.73886   137.73886  ]\n",
            "   [135.68608   137.68608   136.68608  ]\n",
            "   [133.64282   135.64282   134.64282  ]]]\n",
            "\n",
            "\n",
            " [[[ 99.94388   138.22958   155.58673  ]\n",
            "   [ 99.11735   141.83163   157.90306  ]\n",
            "   [ 93.85204   140.42348   159.06633  ]\n",
            "   ...\n",
            "   [ 19.933687   76.933685   70.933685 ]\n",
            "   [ 20.214247   77.21425    70.21425  ]\n",
            "   [ 19.372576   76.372574   69.372574 ]]\n",
            "\n",
            "  [[ 98.47449   136.66837   152.07143  ]\n",
            "   [100.        142.7143    158.78572  ]\n",
            "   [ 94.58673   140.37245   157.0153   ]\n",
            "   ...\n",
            "   [ 19.943876   75.         68.83163  ]\n",
            "   [ 20.79079    76.790794   67.790794 ]\n",
            "   [ 18.306152   74.30615    65.30615  ]]\n",
            "\n",
            "  [[103.98469   140.70407   156.70407  ]\n",
            "   [100.841835  143.55612   159.62755  ]\n",
            "   [ 97.03062   142.47958   159.12244  ]\n",
            "   ...\n",
            "   [ 20.617342   74.21429    67.70917  ]\n",
            "   [ 19.984692   73.62755    66.98469  ]\n",
            "   [ 18.428535   72.071396   65.428535 ]]\n",
            "\n",
            "  ...\n",
            "\n",
            "  [[177.42851   171.50504   195.14787  ]\n",
            "   [129.67354   119.87252   130.72963  ]\n",
            "   [145.63249   122.91822   117.56104  ]\n",
            "   ...\n",
            "   [ 95.40306   144.61736   152.04594  ]\n",
            "   [ 96.785706  146.        153.42859  ]\n",
            "   [ 97.28064   146.49493   153.92352  ]]\n",
            "\n",
            "  [[154.93845   147.53539   165.62715  ]\n",
            "   [146.88286   137.88799   141.81136  ]\n",
            "   [125.47948   104.2805     89.87733  ]\n",
            "   ...\n",
            "   [ 94.        144.        153.       ]\n",
            "   [ 96.        146.        155.       ]\n",
            "   [ 97.        147.        156.       ]]\n",
            "\n",
            "  [[132.3725    126.244934  138.3878   ]\n",
            "   [140.85718   132.9286    130.97453  ]\n",
            "   [101.280685   80.857216   60.99498  ]\n",
            "   ...\n",
            "   [ 90.99492   140.99492   149.99492  ]\n",
            "   [ 91.096954  141.09695   150.09695  ]\n",
            "   [ 92.07144   142.07144   151.07144  ]]]], shape=(32, 224, 224, 3), dtype=float32) tf.Tensor(\n",
            "[[0. 0. 0. 0. 0. 0. 0. 0. 1. 0.]\n",
            " [0. 0. 0. 0. 0. 1. 0. 0. 0. 0.]\n",
            " [0. 0. 0. 0. 1. 0. 0. 0. 0. 0.]\n",
            " [0. 0. 0. 0. 0. 1. 0. 0. 0. 0.]\n",
            " [0. 0. 0. 0. 0. 0. 0. 0. 0. 1.]\n",
            " [0. 0. 0. 0. 0. 0. 0. 0. 0. 1.]\n",
            " [0. 1. 0. 0. 0. 0. 0. 0. 0. 0.]\n",
            " [0. 0. 0. 0. 0. 1. 0. 0. 0. 0.]\n",
            " [0. 0. 0. 0. 0. 0. 0. 1. 0. 0.]\n",
            " [1. 0. 0. 0. 0. 0. 0. 0. 0. 0.]\n",
            " [0. 0. 0. 0. 0. 0. 0. 0. 0. 1.]\n",
            " [0. 0. 0. 0. 0. 0. 0. 0. 1. 0.]\n",
            " [1. 0. 0. 0. 0. 0. 0. 0. 0. 0.]\n",
            " [0. 0. 0. 0. 1. 0. 0. 0. 0. 0.]\n",
            " [0. 0. 0. 0. 0. 1. 0. 0. 0. 0.]\n",
            " [0. 0. 0. 1. 0. 0. 0. 0. 0. 0.]\n",
            " [0. 0. 0. 0. 0. 0. 0. 0. 0. 1.]\n",
            " [0. 0. 0. 0. 1. 0. 0. 0. 0. 0.]\n",
            " [0. 1. 0. 0. 0. 0. 0. 0. 0. 0.]\n",
            " [0. 0. 0. 1. 0. 0. 0. 0. 0. 0.]\n",
            " [0. 0. 1. 0. 0. 0. 0. 0. 0. 0.]\n",
            " [0. 0. 1. 0. 0. 0. 0. 0. 0. 0.]\n",
            " [0. 0. 0. 0. 0. 0. 1. 0. 0. 0.]\n",
            " [0. 0. 1. 0. 0. 0. 0. 0. 0. 0.]\n",
            " [0. 0. 0. 0. 0. 1. 0. 0. 0. 0.]\n",
            " [0. 0. 0. 0. 0. 0. 0. 1. 0. 0.]\n",
            " [0. 0. 0. 0. 1. 0. 0. 0. 0. 0.]\n",
            " [0. 0. 0. 0. 1. 0. 0. 0. 0. 0.]\n",
            " [0. 0. 0. 0. 0. 0. 1. 0. 0. 0.]\n",
            " [0. 0. 0. 0. 0. 0. 0. 1. 0. 0.]\n",
            " [0. 1. 0. 0. 0. 0. 0. 0. 0. 0.]\n",
            " [0. 1. 0. 0. 0. 0. 0. 0. 0. 0.]], shape=(32, 10), dtype=float32)\n"
          ]
        }
      ]
    },
    {
      "cell_type": "code",
      "source": [
        "base_model = tf.keras.applications.efficientnet_v2.EfficientNetV2B0(include_top=False)\n",
        "\n",
        "base_model.trainable = False\n",
        "\n",
        "inputs = tf.keras.layers.Input(shape=(224, 224, 3), name=\"input_layer\")\n",
        "\n",
        "x = base_model(inputs)\n",
        "\n",
        "x = tf.keras.layers.GlobalAveragePooling2D(name=\"globl_average_pooling_layer\")(x)\n",
        "\n",
        "outputs = tf.keras.layers.Dense(10, activation=\"softmax\", name=\"output_layer\")(x)\n",
        "\n",
        "model_0 = tf.keras.Model(inputs, outputs)\n",
        "\n",
        "# compile and fit model"
      ],
      "metadata": {
        "id": "nR4StEMpydKR"
      },
      "execution_count": null,
      "outputs": []
    }
  ]
}